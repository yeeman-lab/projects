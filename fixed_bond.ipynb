{
 "cells": [
  {
   "cell_type": "markdown",
   "id": "dbbfd248-fd74-40a8-82fa-fadbf3c9e9cc",
   "metadata": {},
   "source": [
    "## Purpose of this works"
   ]
  },
  {
   "cell_type": "markdown",
   "id": "bbaee649-3caa-4b36-961a-a6b49f7a8316",
   "metadata": {},
   "source": [
    "<p> This Python script utilizes the BeautifulSoup library to perform web scraping on selected high street banks, including Barclays, NatWest, and Santander. The objective is to capture the latest interest rates for 1 Year Fixed Bonds from these banks' websites. <br> The script navigates through the HTML structure of each bank's webpage and extracts relevant information about the interest rates. To facilitate easy comparison, the script presents the obtained interest rates in descending order, allowing users to quickly identify and evaluate the most competitive offers. <br> This provides a convenient and automated way to stay updated on the current financial offerings from these prominent banks and make informed decisions based on the latest and most favorable rates. </p>"
   ]
  },
  {
   "cell_type": "markdown",
   "id": "2c6125a2-2ed8-4554-a5e2-0d103769a232",
   "metadata": {},
   "source": [
    "## Load in the necessary libraries"
   ]
  },
  {
   "cell_type": "code",
   "execution_count": 1,
   "id": "517f9436-eaf8-4eac-934a-aa409a317d09",
   "metadata": {},
   "outputs": [],
   "source": [
    "import requests\n",
    "from bs4 import BeautifulSoup as bs\n",
    "import re"
   ]
  },
  {
   "cell_type": "markdown",
   "id": "dceafa24-3ab5-47a0-85e1-a74773d5b2c6",
   "metadata": {},
   "source": [
    "## Perform web scraping on each bank's website"
   ]
  },
  {
   "cell_type": "code",
   "execution_count": 2,
   "id": "4d484be1-a036-4257-b8dc-accf8b861b81",
   "metadata": {},
   "outputs": [
    {
     "data": {
      "text/plain": [
       "4.85"
      ]
     },
     "execution_count": 2,
     "metadata": {},
     "output_type": "execute_result"
    }
   ],
   "source": [
    "# Load the Barclays' webpage content\n",
    "barclay_r = requests.get(\"https://www.barclays.co.uk/savings/bonds/1-year-fixed-rate-savings-bond/\")\n",
    "\n",
    "# Convert to a beautiful soup object\n",
    "barclay = bs(barclay_r.content)\n",
    "\n",
    "# Look for the index of AER% column\n",
    "barclay_header = barclay.find_all('tr')[0]\n",
    "barclay_p = barclay_header.find_all('p')\n",
    "i = 0\n",
    "for p in barclay_p:\n",
    "    if p.get_text().startswith('AER'):\n",
    "        break\n",
    "    i+=1\n",
    "      \n",
    "# Get the rate from AER column\n",
    "barclay_table = barclay.find_all('tr')[1]\n",
    "barclay_one_year = barclay_table.find_all('p')[i]\n",
    "rate_barclay = barclay_one_year.get_text(strip=True)\n",
    "rate_barclay = float(rate_barclay.strip(\"%\"))\n",
    "rate_barclay"
   ]
  },
  {
   "cell_type": "code",
   "execution_count": 3,
   "id": "b36441ce-fefc-487b-895e-fbb553a66093",
   "metadata": {},
   "outputs": [
    {
     "data": {
      "text/plain": [
       "4.6"
      ]
     },
     "execution_count": 3,
     "metadata": {},
     "output_type": "execute_result"
    }
   ],
   "source": [
    "# Load the Natwest's webpage content\n",
    "natwest_r = requests.get(\"https://www.natwest.com/savings/fixed-term-savings-account.html\")\n",
    "\n",
    "# Convert to a beautiful soup object\n",
    "natwest = bs(natwest_r.content)\n",
    "\n",
    "# Look for specific class name that contains information about 1 year term\n",
    "natwest_term = natwest.find_all(\"span\", string=re.compile(\"1 year\"))[0]\n",
    "natwest_class = natwest_term.parent['class']\n",
    "\n",
    "# Point to the target table\n",
    "natwest_table = natwest_term.parent.parent.parent\n",
    "\n",
    "# Look for the index of AER% column\n",
    "natwest_table_header = natwest_table.find_all(True, {'class': 'row0'})\n",
    "j = 0\n",
    "for header in natwest_table_header:\n",
    "    if header.find_all(\"h4\", string=re.compile(\"AER\")):\n",
    "        break\n",
    "    j+=1\n",
    "\n",
    "# Get the rate from AER column\n",
    "natwest_one_year = natwest_table.find_all(True, {'class':natwest_class[0]})\n",
    "rate_natwest = natwest_one_year[2].get_text(strip=True)\n",
    "rate_natwest = float(rate_natwest.strip(\"%\"))\n",
    "rate_natwest"
   ]
  },
  {
   "cell_type": "code",
   "execution_count": 4,
   "id": "50845be0-282f-4d4b-baf1-03270f72af36",
   "metadata": {},
   "outputs": [
    {
     "data": {
      "text/plain": [
       "4.35"
      ]
     },
     "execution_count": 4,
     "metadata": {},
     "output_type": "execute_result"
    }
   ],
   "source": [
    "# Load the Santander's webpage content\n",
    "santander_r = requests.get(\"https://www.santander.co.uk/personal/savings-and-investments/savings/fixed-term-bonds\")\n",
    "\n",
    "# Convert to a beautiful soup object\n",
    "santander = bs(santander_r.content)\n",
    "\n",
    "# Look for the table applies to new customers\n",
    "santander_table = santander.find(\"table\", id=\"tablefield-0\")\n",
    "\n",
    "# Look for the location of '1 Year' wording\n",
    "santander_one_year = santander_table.find(\"p\", string=re.compile(\"1 Year\"))\n",
    "# Look for the table contains information of 1 Year term\n",
    "santander_one_year_table = santander_one_year.parent.parent\n",
    "# Get the rate that has \"AER\" attribute\n",
    "santander_aer = santander_one_year_table.find_all(attrs={\"data-header\": \"AER/Gross\"})[0]\n",
    "rate_santander = santander_aer.get_text(strip=True)\n",
    "rate_santander = float(rate_santander.strip(\"%\"))\n",
    "rate_santander\n"
   ]
  },
  {
   "cell_type": "markdown",
   "id": "5de40502-ab20-429d-ab6f-ddfd02df4059",
   "metadata": {},
   "source": [
    "## Presents obtained interest rates in descending order"
   ]
  },
  {
   "cell_type": "code",
   "execution_count": 5,
   "id": "87bc4e1e-b39e-4a48-8dca-5c04c9d639c4",
   "metadata": {},
   "outputs": [
    {
     "data": {
      "text/plain": [
       "[('Barclays', 4.85), ('Natwest', 4.6), ('Santander', 4.35)]"
      ]
     },
     "execution_count": 5,
     "metadata": {},
     "output_type": "execute_result"
    }
   ],
   "source": [
    "# Put all AER% results from web scraping into a hash map, i.e. dictionary\n",
    "rates_dict = {\"Barclays\": rate_barclay, \"Natwest\": rate_natwest, \"Santander\": rate_santander}\n",
    "\n",
    "sorted_rates = sorted(rates_dict.items(), key=lambda x:x[1], reverse=True)\n",
    "sorted_rates"
   ]
  },
  {
   "cell_type": "code",
   "execution_count": 6,
   "id": "64ea7c4a-9ab7-4880-8976-dcbcc33ce43c",
   "metadata": {},
   "outputs": [
    {
     "name": "stdout",
     "output_type": "stream",
     "text": [
      "The interest rates for 1 Year Fixed Bond are as follows (in descending order):\n",
      "Bank: Barclays\n",
      "Interest rate: 4.85\n",
      "Bank: Natwest\n",
      "Interest rate: 4.6\n",
      "Bank: Santander\n",
      "Interest rate: 4.35\n"
     ]
    }
   ],
   "source": [
    "# Show the sorted results\n",
    "\n",
    "print(\"The interest rates for 1 Year Fixed Bond are as follows (in descending order):\")\n",
    "\n",
    "for rate in sorted_rates:\n",
    "    print(f\"Bank: {rate[0]}\")\n",
    "    print(f\"Interest rate: {rate[1]}\")"
   ]
  },
  {
   "cell_type": "code",
   "execution_count": null,
   "id": "dafdf006-63d9-439a-a5e6-1c0ec3086208",
   "metadata": {},
   "outputs": [],
   "source": []
  }
 ],
 "metadata": {
  "kernelspec": {
   "display_name": "Python 3 (ipykernel)",
   "language": "python",
   "name": "python3"
  },
  "language_info": {
   "codemirror_mode": {
    "name": "ipython",
    "version": 3
   },
   "file_extension": ".py",
   "mimetype": "text/x-python",
   "name": "python",
   "nbconvert_exporter": "python",
   "pygments_lexer": "ipython3",
   "version": "3.12.1"
  }
 },
 "nbformat": 4,
 "nbformat_minor": 5
}
